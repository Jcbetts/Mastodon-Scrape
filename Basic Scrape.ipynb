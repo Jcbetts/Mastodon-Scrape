{
 "cells": [
  {
   "cell_type": "code",
   "execution_count": null,
   "id": "661ecbc7",
   "metadata": {},
   "outputs": [],
   "source": [
    "from selenium import webdriver\n",
    "from selenium.webdriver.chrome.options import Options\n",
    "from selenium.webdriver.common.keys import Keys\n",
    "from time import sleep\n",
    "from selenium.webdriver.chrome.options import Options\n",
    "from bs4 import BeautifulSoup\n",
    "import json\n",
    "import csv\n",
    "# import config.py -use this and place in gitignore when sending to github-"
   ]
  },
  {
   "cell_type": "code",
   "execution_count": 61,
   "id": "268498f9",
   "metadata": {},
   "outputs": [],
   "source": [
    "# Configuration file\n",
    "CHROMELOC = '***'\n",
    "UNAME = '***'\n",
    "PASSWORD = '***'"
   ]
  },
  {
   "cell_type": "code",
   "execution_count": 62,
   "id": "d7fe8339",
   "metadata": {},
   "outputs": [],
   "source": [
    "option = webdriver.ChromeOptions()\n",
    "driver = webdriver.Chrome(options = option)"
   ]
  },
  {
   "cell_type": "code",
   "execution_count": 63,
   "id": "d5b111a0",
   "metadata": {},
   "outputs": [],
   "source": [
    "driver.get('https://sciences.social/auth/sign_in')\n",
    "sleep(15)"
   ]
  },
  {
   "cell_type": "code",
   "execution_count": 64,
   "id": "6e447c5e",
   "metadata": {},
   "outputs": [],
   "source": [
    "log_form=driver.find_element(by='id', value='user_email').send_keys(UNAME)\n",
    "sleep(3)"
   ]
  },
  {
   "cell_type": "code",
   "execution_count": 65,
   "id": "47725abb",
   "metadata": {},
   "outputs": [],
   "source": [
    "log_form=driver.find_element(by='id', value='user_password').send_keys(PASSWORD)\n",
    "sleep(3)"
   ]
  },
  {
   "cell_type": "code",
   "execution_count": 66,
   "id": "946b498c",
   "metadata": {},
   "outputs": [],
   "source": [
    "log_in=driver.find_element(by='name', value='button').click()\n",
    "sleep(10)"
   ]
  },
  {
   "cell_type": "code",
   "execution_count": 72,
   "id": "a8072349",
   "metadata": {},
   "outputs": [],
   "source": [
    "# Use JSON to scroll to the bottom of a page and then take snapshot\n",
    "for _ in range(10):  \n",
    "    driver.execute_script('window.scrollTo(0, document.body.scrollHeight);')\n",
    "    sleep(10)  "
   ]
  },
  {
   "cell_type": "code",
   "execution_count": 73,
   "id": "d07a95b7",
   "metadata": {},
   "outputs": [],
   "source": [
    "pagesource = driver.page_source\n",
    "driver.quit()"
   ]
  },
  {
   "cell_type": "code",
   "execution_count": null,
   "id": "62e313d4-9e92-4796-9f93-1bb2f9439fe0",
   "metadata": {},
   "outputs": [],
   "source": [
    "pagesource"
   ]
  },
  {
   "cell_type": "code",
   "execution_count": 75,
   "id": "e4769057",
   "metadata": {},
   "outputs": [],
   "source": [
    "bs = BeautifulSoup(pagesource,'html.parser')"
   ]
  },
  {
   "cell_type": "code",
   "execution_count": null,
   "id": "59a981ba-6db2-4da2-b53f-eef4e9df5a91",
   "metadata": {},
   "outputs": [],
   "source": [
    "bs"
   ]
  },
  {
   "cell_type": "code",
   "execution_count": 77,
   "id": "87ed0cf4",
   "metadata": {},
   "outputs": [],
   "source": [
    "posts = bs.find_all('span')"
   ]
  },
  {
   "cell_type": "code",
   "execution_count": null,
   "id": "1b7b83b7-b650-45de-9830-dc52a0e4d521",
   "metadata": {},
   "outputs": [],
   "source": [
    "posts"
   ]
  },
  {
   "cell_type": "code",
   "execution_count": 58,
   "id": "1fb900d5",
   "metadata": {},
   "outputs": [],
   "source": [
    "# paragraphs = bs.find_all('p')"
   ]
  },
  {
   "cell_type": "markdown",
   "id": "37fe38c0",
   "metadata": {},
   "source": [
    "&lt;p&gt; appears to be what denotes start and end of text within post (instead of 'p'), but having a hard time parsing that with bs. Interestingly, when the .csv is published, the <p> are all in there... 'span' may not be the right overhead(?) to search for."
   ]
  },
  {
   "cell_type": "code",
   "execution_count": 59,
   "id": "af320231",
   "metadata": {},
   "outputs": [
    {
     "data": {
      "text/plain": [
       "[]"
      ]
     },
     "execution_count": 59,
     "metadata": {},
     "output_type": "execute_result"
    }
   ],
   "source": [
    "# remove until you're able to identify what is used for paragraphs\n",
    "# paragraphs"
   ]
  },
  {
   "cell_type": "code",
   "execution_count": 79,
   "id": "bde99c73",
   "metadata": {},
   "outputs": [],
   "source": [
    "# Keywords to search for in the posts - using the general 'science' to ensure it is working...\n",
    "keywords = ['privacy', 'data privacy', 'information privacy', 'science']"
   ]
  },
  {
   "cell_type": "code",
   "execution_count": 80,
   "id": "54593c41",
   "metadata": {},
   "outputs": [],
   "source": [
    "# create an empty list to store the text that match keywords\n",
    "relevant_posts = []"
   ]
  },
  {
   "cell_type": "code",
   "execution_count": 81,
   "id": "1d60ce3f",
   "metadata": {},
   "outputs": [],
   "source": [
    "# Loop through each post and check if it contains any of the keywords\n",
    "for post in posts:\n",
    "    post_text = post.get_text()\n",
    "    for keyword in keywords:\n",
    "        if keyword in post_text.lower():\n",
    "            relevant_posts.append(post_text)"
   ]
  },
  {
   "cell_type": "code",
   "execution_count": 84,
   "id": "4f069b49",
   "metadata": {},
   "outputs": [
    {
     "name": "stdout",
     "output_type": "stream",
     "text": [
      "Printed .csv file.\n"
     ]
    }
   ],
   "source": [
    "# Export the relevant posts to a CSV file\n",
    "with open('relevant_posts.csv', 'w', newline='', encoding='utf-8') as csv_file:\n",
    "    writer = csv.writer(csv_file)\n",
    "    writer.writerow(['Post Text'])\n",
    "    for post_text in relevant_posts:\n",
    "        writer.writerow([post_text])\n",
    "\n",
    "print('Printed .csv file.')"
   ]
  }
 ],
 "metadata": {
  "kernelspec": {
   "display_name": "Python 3 (ipykernel)",
   "language": "python",
   "name": "python3"
  },
  "language_info": {
   "codemirror_mode": {
    "name": "ipython",
    "version": 3
   },
   "file_extension": ".py",
   "mimetype": "text/x-python",
   "name": "python",
   "nbconvert_exporter": "python",
   "pygments_lexer": "ipython3",
   "version": "3.11.2"
  }
 },
 "nbformat": 4,
 "nbformat_minor": 5
}
